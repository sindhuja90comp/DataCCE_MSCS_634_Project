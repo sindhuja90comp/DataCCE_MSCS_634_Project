{
 "cells": [
  {
   "cell_type": "code",
   "execution_count": null,
   "id": "92b956eb",
   "metadata": {},
   "outputs": [
    {
     "name": "stdout",
     "output_type": "stream",
     "text": [
      "<class 'pandas.core.frame.DataFrame'>\n",
      "RangeIndex: 55500 entries, 0 to 55499\n",
      "Data columns (total 15 columns):\n",
      " #   Column              Non-Null Count  Dtype  \n",
      "---  ------              --------------  -----  \n",
      " 0   Name                55500 non-null  object \n",
      " 1   Age                 55500 non-null  int64  \n",
      " 2   Gender              55500 non-null  object \n",
      " 3   Blood Type          55500 non-null  object \n",
      " 4   Medical Condition   55500 non-null  object \n",
      " 5   Date of Admission   55500 non-null  object \n",
      " 6   Doctor              55500 non-null  object \n",
      " 7   Hospital            55500 non-null  object \n",
      " 8   Insurance Provider  55500 non-null  object \n",
      " 9   Billing Amount      55500 non-null  float64\n",
      " 10  Room Number         55500 non-null  int64  \n",
      " 11  Admission Type      55500 non-null  object \n",
      " 12  Discharge Date      55500 non-null  object \n",
      " 13  Medication          55500 non-null  object \n",
      " 14  Test Results        55500 non-null  object \n",
      "dtypes: float64(1), int64(2), object(12)\n",
      "memory usage: 6.4+ MB\n"
     ]
    },
    {
     "data": {
      "text/html": [
       "<div>\n",
       "<style scoped>\n",
       "    .dataframe tbody tr th:only-of-type {\n",
       "        vertical-align: middle;\n",
       "    }\n",
       "\n",
       "    .dataframe tbody tr th {\n",
       "        vertical-align: top;\n",
       "    }\n",
       "\n",
       "    .dataframe thead th {\n",
       "        text-align: right;\n",
       "    }\n",
       "</style>\n",
       "<table border=\"1\" class=\"dataframe\">\n",
       "  <thead>\n",
       "    <tr style=\"text-align: right;\">\n",
       "      <th></th>\n",
       "      <th>Age</th>\n",
       "      <th>Billing Amount</th>\n",
       "      <th>Room Number</th>\n",
       "    </tr>\n",
       "  </thead>\n",
       "  <tbody>\n",
       "    <tr>\n",
       "      <th>count</th>\n",
       "      <td>55500.000000</td>\n",
       "      <td>55500.000000</td>\n",
       "      <td>55500.000000</td>\n",
       "    </tr>\n",
       "    <tr>\n",
       "      <th>mean</th>\n",
       "      <td>51.539459</td>\n",
       "      <td>25539.316097</td>\n",
       "      <td>301.134829</td>\n",
       "    </tr>\n",
       "    <tr>\n",
       "      <th>std</th>\n",
       "      <td>19.602454</td>\n",
       "      <td>14211.454431</td>\n",
       "      <td>115.243069</td>\n",
       "    </tr>\n",
       "    <tr>\n",
       "      <th>min</th>\n",
       "      <td>13.000000</td>\n",
       "      <td>-2008.492140</td>\n",
       "      <td>101.000000</td>\n",
       "    </tr>\n",
       "    <tr>\n",
       "      <th>25%</th>\n",
       "      <td>35.000000</td>\n",
       "      <td>13241.224652</td>\n",
       "      <td>202.000000</td>\n",
       "    </tr>\n",
       "    <tr>\n",
       "      <th>50%</th>\n",
       "      <td>52.000000</td>\n",
       "      <td>25538.069376</td>\n",
       "      <td>302.000000</td>\n",
       "    </tr>\n",
       "    <tr>\n",
       "      <th>75%</th>\n",
       "      <td>68.000000</td>\n",
       "      <td>37820.508436</td>\n",
       "      <td>401.000000</td>\n",
       "    </tr>\n",
       "    <tr>\n",
       "      <th>max</th>\n",
       "      <td>89.000000</td>\n",
       "      <td>52764.276736</td>\n",
       "      <td>500.000000</td>\n",
       "    </tr>\n",
       "  </tbody>\n",
       "</table>\n",
       "</div>"
      ],
      "text/plain": [
       "                Age  Billing Amount   Room Number\n",
       "count  55500.000000    55500.000000  55500.000000\n",
       "mean      51.539459    25539.316097    301.134829\n",
       "std       19.602454    14211.454431    115.243069\n",
       "min       13.000000    -2008.492140    101.000000\n",
       "25%       35.000000    13241.224652    202.000000\n",
       "50%       52.000000    25538.069376    302.000000\n",
       "75%       68.000000    37820.508436    401.000000\n",
       "max       89.000000    52764.276736    500.000000"
      ]
     },
     "execution_count": 2,
     "metadata": {},
     "output_type": "execute_result"
    }
   ],
   "source": [
    "import pandas as pd\n",
    "\n",
    "# Load the dataset into a DataFrame\n",
    "df = pd.read_csv('healthcare_deliverable1.csv')  # or .xlsx, .json\n",
    "\n",
    "# Display the first five rows of the dataset to get a quick overview of the data\n",
    "df.head()\n",
    "\n",
    "# Show the structure of the DataFrame, including column names, non-null counts, and data types\n",
    "df.info()\n",
    "\n",
    "# Generate summary statistics (count, mean, std, min, max, quartiles) for numerical columns\n",
    "df.describe()"
   ]
  },
  {
   "cell_type": "markdown",
   "id": "23d1511c",
   "metadata": {},
   "source": [
    "✅ Handling Missing Values: Age Column\n",
    "In this step, we address missing values in the Age column. Missing ages are replaced with the median value of the column. This method is chosen because the median is less sensitive to outliers and helps retain the central tendency of the data without distortion."
   ]
  },
  {
   "cell_type": "code",
   "execution_count": 22,
   "id": "531332d2",
   "metadata": {},
   "outputs": [
    {
     "name": "stdout",
     "output_type": "stream",
     "text": [
      "Name                  0\n",
      "Age                   0\n",
      "Gender                0\n",
      "Blood Type            0\n",
      "Medical Condition     0\n",
      "Date of Admission     0\n",
      "Doctor                0\n",
      "Hospital              0\n",
      "Insurance Provider    0\n",
      "Billing Amount        0\n",
      "Room Number           0\n",
      "Admission Type        0\n",
      "Discharge Date        0\n",
      "Medication            0\n",
      "Test Results          0\n",
      "dtype: int64\n"
     ]
    }
   ],
   "source": [
    "# Display the number of missing values in each column\n",
    "print(df.isnull().sum())"
   ]
  },
  {
   "cell_type": "code",
   "execution_count": 21,
   "id": "1bb4199e",
   "metadata": {},
   "outputs": [
    {
     "name": "stdout",
     "output_type": "stream",
     "text": [
      "Missing values before filling:\n",
      "0\n",
      "Missing values after filling:\n",
      "0\n"
     ]
    }
   ],
   "source": [
    "# Performing cleaning tasks - Handle Missing Values:\n",
    "\n",
    "# Step 1: Check missing values before filling\n",
    "print(\"Missing values before filling:\")\n",
    "print(df['Age'].isnull().sum())\n",
    "\n",
    "# Replace missing values in 'Age' column with the median age\n",
    "df['Age'] = df['Age'].fillna(df['Age'].median())\n",
    "\n",
    "# Step 3: Check missing values after filling\n",
    "print(\"Missing values after filling:\")\n",
    "print(df['Age'].isnull().sum())\n",
    "\n"
   ]
  },
  {
   "cell_type": "markdown",
   "id": "f02b7339",
   "metadata": {},
   "source": [
    "✅ Step: Removing Duplicate Records\n",
    "To ensure data integrity and prevent bias in analysis, duplicate rows were removed using the drop_duplicates() method. This helps guarantee that each entry in the dataset represents a unique case or observation."
   ]
  },
  {
   "cell_type": "code",
   "execution_count": null,
   "id": "a894c824",
   "metadata": {},
   "outputs": [],
   "source": [
    "# Step: Remove duplicate rows from the dataset\n",
    "df.drop_duplicates(inplace=True)\n",
    "### Removing Duplicates - Duplicate records were removed using `drop_duplicates()` to ensure each row represents a unique patient case.\n",
    "\n"
   ]
  },
  {
   "cell_type": "markdown",
   "id": "904f9f1a",
   "metadata": {},
   "source": [
    "✅ Step: Fixing Inconsistencies in the 'Gender' Column\n",
    "To clean and standardize the 'Gender' column, leading/trailing whitespaces were removed and all values were converted to lowercase using .str.strip().str.lower(). Common variations such as 'male', 'm', 'female', and 'f' were then mapped to consistent labels 'Male' and 'Female'. This ensures uniformity and reduces noise in the categorical data."
   ]
  },
  {
   "cell_type": "code",
   "execution_count": 8,
   "id": "2c0a5a17",
   "metadata": {},
   "outputs": [],
   "source": [
    "# Fix Inconsistencies or Noisy Data\n",
    "\n",
    "# Step: Clean and standardize values in the 'Gender' column\n",
    "df['Gender'] = df['Gender'].str.strip().str.lower()  # Remove spaces and lowercase\n",
    "df['Gender'] = df['Gender'].replace({'male': 'Male', 'm': 'Male', 'female': 'Female', 'f': 'Female'})\n"
   ]
  },
  {
   "cell_type": "markdown",
   "id": "181a6a3a",
   "metadata": {},
   "source": [
    "✅ Step: Removing Whitespace from All String Columns\n",
    "To further clean the dataset, all leading and trailing whitespace characters were removed from every column containing string data. This was achieved by applying the .str.strip() method across all object-type columns using a lambda function. This step helps prevent errors caused by inconsistent spacing in categorical data."
   ]
  },
  {
   "cell_type": "code",
   "execution_count": 9,
   "id": "4e23a7d7",
   "metadata": {},
   "outputs": [],
   "source": [
    "# Step: Strip whitespace characters from all string-type columns\n",
    "df = df.apply(lambda x: x.str.strip() if x.dtype == 'object' else x)\n"
   ]
  },
  {
   "cell_type": "markdown",
   "id": "2f951de8",
   "metadata": {},
   "source": [
    "📊 Step: Visualizing Age Distribution with Histogram\n",
    "A histogram was created using Seaborn’s histplot() function to visualize the distribution of the 'Age' variable in the dataset. This helps to understand the frequency and spread of different age groups among the patients."
   ]
  },
  {
   "cell_type": "code",
   "execution_count": 11,
   "id": "e1f647e4",
   "metadata": {},
   "outputs": [
    {
     "data": {
      "text/plain": [
       "Text(0.5, 1.0, 'Age Distribution')"
      ]
     },
     "execution_count": 11,
     "metadata": {},
     "output_type": "execute_result"
    },
    {
     "data": {
      "image/png": "[encoded data removed]",
      "text/plain": [
       "<Figure size 640x480 with 1 Axes>"
      ]
     },
     "metadata": {},
     "output_type": "display_data"
    }
   ],
   "source": [
    "import seaborn as sns\n",
    "import matplotlib.pyplot as plt\n",
    "\n",
    "sns.histplot(df['Age'])\n",
    "plt.title('Age Distribution')\n"
   ]
  },
  {
   "cell_type": "markdown",
   "id": "3ad01092",
   "metadata": {},
   "source": [
    "Data Distributions:"
   ]
  },
  {
   "cell_type": "markdown",
   "id": "f9157009",
   "metadata": {},
   "source": [
    "✅ Step: Display Dataset Column Names\n",
    "The print(df.columns) command lists all column names in the DataFrame, helping to quickly identify available attributes for analysis and manipulation."
   ]
  },
  {
   "cell_type": "code",
   "execution_count": 15,
   "id": "bfea9258",
   "metadata": {},
   "outputs": [
    {
     "name": "stdout",
     "output_type": "stream",
     "text": [
      "Index(['Name', 'Age', 'Gender', 'Blood Type', 'Medical Condition',\n",
      "       'Date of Admission', 'Doctor', 'Hospital', 'Insurance Provider',\n",
      "       'Billing Amount', 'Room Number', 'Admission Type', 'Discharge Date',\n",
      "       'Medication', 'Test Results'],\n",
      "      dtype='object')\n"
     ]
    }
   ],
   "source": [
    "print(df.columns)\n"
   ]
  },
  {
   "cell_type": "markdown",
   "id": "2c418c16",
   "metadata": {},
   "source": [
    "Step: Boxplot for Billing Amount\n",
    "This code creates a boxplot for the 'Billing Amount' column to visualize the distribution, central tendency, and detect any potential outliers in the billing data. Boxplots help in understanding data spread and spotting anomalies."
   ]
  },
  {
   "cell_type": "code",
   "execution_count": 16,
   "id": "2ed961b3",
   "metadata": {},
   "outputs": [
    {
     "data": {
      "text/plain": [
       "<Axes: xlabel='Billing Amount'>"
      ]
     },
     "execution_count": 16,
     "metadata": {},
     "output_type": "execute_result"
    },
    {
     "data": {
      "image/png": "[encoded data removed]",
      "text/plain": [
       "<Figure size 640x480 with 1 Axes>"
      ]
     },
     "metadata": {},
     "output_type": "display_data"
    }
   ],
   "source": [
    "sns.boxplot(x=df['Billing Amount'])\n"
   ]
  },
  {
   "cell_type": "markdown",
   "id": "6d69e72f",
   "metadata": {},
   "source": [
    "Boxplots (to find outliers)"
   ]
  },
  {
   "cell_type": "code",
   "execution_count": 19,
   "id": "bf4ad294",
   "metadata": {},
   "outputs": [
    {
     "data": {
      "image/png": "[encoded data removed]",
      "text/plain": [
       "<Figure size 1000x600 with 2 Axes>"
      ]
     },
     "metadata": {},
     "output_type": "display_data"
    }
   ],
   "source": [
    "import seaborn as sns\n",
    "import matplotlib.pyplot as plt\n",
    "\n",
    "# Select only numeric columns\n",
    "numeric_df = df.select_dtypes(include=['int64', 'float64'])\n",
    "\n",
    "# Compute correlation matrix\n",
    "correlation_matrix = numeric_df.corr()\n",
    "\n",
    "# Plot heatmap\n",
    "plt.figure(figsize=(10, 6))\n",
    "sns.heatmap(correlation_matrix, annot=True, cmap='coolwarm')\n",
    "plt.title('Correlation Matrix')\n",
    "plt.show()\n",
    "\n",
    "\n"
   ]
  },
  {
   "cell_type": "markdown",
   "id": "abff00ab",
   "metadata": {},
   "source": [
    "Pairplots / Heatmaps for Relationships:"
   ]
  },
  {
   "cell_type": "code",
   "execution_count": 1,
   "id": "f57ea21f",
   "metadata": {},
   "outputs": [
    {
     "name": "stdout",
     "output_type": "stream",
     "text": [
      "hello\n"
     ]
    }
   ],
   "source": [
    "print('hello')"
   ]
  }
 ],
 "metadata": {
  "kernelspec": {
   "display_name": "Python 3",
   "language": "python",
   "name": "python3"
  },
  "language_info": {
   "codemirror_mode": {
    "name": "ipython",
    "version": 3
   },
   "file_extension": ".py",
   "mimetype": "text/x-python",
   "name": "python",
   "nbconvert_exporter": "python",
   "pygments_lexer": "ipython3",
   "version": "3.12.5"
  }
 },
 "nbformat": 4,
 "nbformat_minor": 5
}
